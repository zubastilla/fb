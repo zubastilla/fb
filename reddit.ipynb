{
 "cells": [
  {
   "cell_type": "code",
   "execution_count": 2,
   "metadata": {},
   "outputs": [
    {
     "ename": "ModuleNotFoundError",
     "evalue": "No module named 'praw'",
     "output_type": "error",
     "traceback": [
      "\u001b[1;31m---------------------------------------------------------------------------\u001b[0m",
      "\u001b[1;31mModuleNotFoundError\u001b[0m                       Traceback (most recent call last)",
      "\u001b[1;32m~\\AppData\\Local\\Temp\\ipykernel_22144\\132885637.py\u001b[0m in \u001b[0;36m<module>\u001b[1;34m\u001b[0m\n\u001b[1;32m----> 1\u001b[1;33m \u001b[1;32mimport\u001b[0m \u001b[0mpraw\u001b[0m\u001b[1;33m\u001b[0m\u001b[1;33m\u001b[0m\u001b[0m\n\u001b[0m\u001b[0;32m      2\u001b[0m \u001b[1;32mimport\u001b[0m \u001b[0mtime\u001b[0m\u001b[1;33m\u001b[0m\u001b[1;33m\u001b[0m\u001b[0m\n\u001b[0;32m      3\u001b[0m \u001b[1;33m\u001b[0m\u001b[0m\n\u001b[0;32m      4\u001b[0m reddit = praw.Reddit(client_id='p5qoOX_9X83J0gZQaJjk5w',\n\u001b[0;32m      5\u001b[0m                      \u001b[0mclient_secret\u001b[0m\u001b[1;33m=\u001b[0m\u001b[1;34m'HSJm4JXYArA3GoElueROt37A5u4IfA'\u001b[0m\u001b[1;33m,\u001b[0m\u001b[1;33m\u001b[0m\u001b[1;33m\u001b[0m\u001b[0m\n",
      "\u001b[1;31mModuleNotFoundError\u001b[0m: No module named 'praw'"
     ]
    }
   ],
   "source": [
    "import praw\n",
    "import time\n",
    "\n",
    "reddit = praw.Reddit(client_id='p5qoOX_9X83J0gZQaJjk5w',\n",
    "                     client_secret='HSJm4JXYArA3GoElueROt37A5u4IfA',\n",
    "                     username='zubastilla',\n",
    "                     password='Pukunqazwsxqazwsx1',\n",
    "                     user_agent='MyAPI/0.0.1')\n",
    "\n",
    "\n",
    "subreddit = reddit.subreddit(subreddit)\n",
    "\n",
    "hot_python = subreddit.hot(limit=number_of_posts)\n",
    "\n",
    "# post_dict = {}\n",
    "post_list = []\n",
    "for sub in hot_python:\n",
    "    if not sub.stickied and (int(time.time())-int(sub.created)<86400):\n",
    "        # post_dict[sub.id] = {'title':sub.title,\n",
    "        # 'url':sub.url,'ups':sub.ups,'created':int(sub.created)}\n",
    "        print(sub)\n",
    "        post_list.append(sub.url)\n",
    "# return post_dict\n",
    "return post_list\n",
    "\n",
    "get_images('greentext',5)"
   ]
  },
  {
   "cell_type": "code",
   "execution_count": null,
   "metadata": {},
   "outputs": [],
   "source": []
  }
 ],
 "metadata": {
  "kernelspec": {
   "display_name": "Python 3.7.9 64-bit",
   "language": "python",
   "name": "python3"
  },
  "language_info": {
   "codemirror_mode": {
    "name": "ipython",
    "version": 3
   },
   "file_extension": ".py",
   "mimetype": "text/x-python",
   "name": "python",
   "nbconvert_exporter": "python",
   "pygments_lexer": "ipython3",
   "version": "3.7.9"
  },
  "orig_nbformat": 4,
  "vscode": {
   "interpreter": {
    "hash": "493878ece595b30a61257a9daf1c2ed48b6ff1bae463fde24cce4e893c093a35"
   }
  }
 },
 "nbformat": 4,
 "nbformat_minor": 2
}
