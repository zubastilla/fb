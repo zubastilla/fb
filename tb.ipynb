{
 "cells": [
  {
   "cell_type": "code",
   "execution_count": 1,
   "metadata": {},
   "outputs": [
    {
     "name": "stdout",
     "output_type": "stream",
     "text": [
      "zcbspu\n",
      "zccnkn\n",
      "zceulk\n",
      "zc6ws9\n",
      "zcckmm\n",
      "zcbspu\n",
      "zccnkn\n",
      "zceulk\n",
      "https://i.redd.it/mw7j5jv7bw3a1.jpg\n",
      "jpg\n",
      "https://i.redd.it/6smdhds7hw3a1.jpg\n",
      "jpg\n",
      "https://i.redd.it/pt0jrlkbww3a1.jpg\n",
      "jpg\n"
     ]
    }
   ],
   "source": [
    "import os\n",
    "import telebot\n",
    "import reddit\n",
    "\n",
    "TELEGRAM_API_KEY = '5686571609:AAEZKdfpDpbH_cdnvznVbKICgXewutuO6hc'\n",
    "\n",
    "\n",
    "# TELEGRAM_API_KEY = os.environ['TELEGRAM_API_KEY']\n",
    "bot = telebot.TeleBot(TELEGRAM_API_KEY)\n",
    "\n",
    "\n",
    "@bot.message_handler(commands=['greet'])\n",
    "def greet(message):\n",
    "  bot.reply_to(message, \"Hey! Hows it going?\")\n",
    "\n",
    "\n",
    "@bot.message_handler(commands=['hello'])\n",
    "def hello(message):\n",
    "  bot.send_message(message.chat.id, \"Hello!\")\n",
    "\n",
    "def send_images(message):\n",
    "  request = message.text.split()\n",
    "  if len(request) < 3 or request[0].lower() not in \"send\" or isinstance(request[2],int) :\n",
    "    return False\n",
    "  else:\n",
    "    return True\n",
    "\n",
    "@bot.message_handler(func=send_images)\n",
    "def send_images(message):\n",
    "  subreddit = message.text.split()[1]\n",
    "  try:\n",
    "    number_of_posts = int(message.text.split()[2])\n",
    "    list_of_urls = reddit.get_images(subreddit,number_of_posts)\n",
    "    if len(list_of_urls) < number_of_posts:\n",
    "      list_of_urls = reddit.get_images(subreddit,number_of_posts + 1)\n",
    "      print(list_of_urls)\n",
    "      print(number_of_posts)\n",
    "    # print(list_of_images)\n",
    "    # bot.send_\n",
    "    for url in list_of_urls:\n",
    "        print(url)\n",
    "        print(url.split('.')[-1])\n",
    "        bot.send_photo(message.chat.id,url)\n",
    "        if url.split('.')[-1] == 'jpg' :\n",
    "          bot.send_photo(message.chat.id, url)\n",
    "        elif url.split('.')[-1] == 'gif':\n",
    "          bot.send_animation(message.chat.id, url)\n",
    "        else:\n",
    "          bot.send_video(message.chat.id, url)\n",
    "    # bot.send_photo(message.chat.id, 'https://media.wired.com/photos/5b899992404e112d2df1e94e/master/pass/trash2-01.jpg')\n",
    "  except ValueError as err:\n",
    "    print('ValueError', err)\n",
    "\n",
    "\n",
    "while True:\n",
    "  try:\n",
    "    bot.polling()\n",
    "  except Exception:\n",
    "    print(Exception)\n",
    "    "
   ]
  },
  {
   "cell_type": "code",
   "execution_count": null,
   "metadata": {},
   "outputs": [],
   "source": [
    "\n",
    "\n",
    "# submission.media['reddit_video']['fallback_url']"
   ]
  }
 ],
 "metadata": {
  "kernelspec": {
   "display_name": "Python 3.7.9 ('venv': venv)",
   "language": "python",
   "name": "python3"
  },
  "language_info": {
   "codemirror_mode": {
    "name": "ipython",
    "version": 3
   },
   "file_extension": ".py",
   "mimetype": "text/x-python",
   "name": "python",
   "nbconvert_exporter": "python",
   "pygments_lexer": "ipython3",
   "version": "3.7.9"
  },
  "orig_nbformat": 4,
  "vscode": {
   "interpreter": {
    "hash": "339df5dda1a55a90fe447cbb9077ea2a6b9ce9ea46ae16d580e6460ce25e8b97"
   }
  }
 },
 "nbformat": 4,
 "nbformat_minor": 2
}
